{
  "nbformat": 4,
  "nbformat_minor": 0,
  "metadata": {
    "colab": {
      "provenance": [],
      "authorship_tag": "ABX9TyOH8D9BNoLIa1L1B+1rU41o",
      "include_colab_link": true
    },
    "kernelspec": {
      "name": "python3",
      "display_name": "Python 3"
    },
    "language_info": {
      "name": "python"
    }
  },
  "cells": [
    {
      "cell_type": "markdown",
      "metadata": {
        "id": "view-in-github",
        "colab_type": "text"
      },
      "source": [
        "<a href=\"https://colab.research.google.com/github/harshit4311/numba-test/blob/main/numba_test.ipynb\" target=\"_parent\"><img src=\"https://colab.research.google.com/assets/colab-badge.svg\" alt=\"Open In Colab\"/></a>"
      ]
    },
    {
      "cell_type": "code",
      "execution_count": 16,
      "metadata": {
        "colab": {
          "base_uri": "https://localhost:8080/"
        },
        "id": "3tPp9-lCr4t_",
        "outputId": "cdb296dc-bbe5-4937-be7a-72068ad01baf"
      },
      "outputs": [
        {
          "output_type": "stream",
          "name": "stdout",
          "text": [
            "hello\n"
          ]
        }
      ],
      "source": [
        "print('hello')"
      ]
    },
    {
      "cell_type": "code",
      "source": [
        "import numpy as np\n",
        "import time\n",
        "from numba import njit"
      ],
      "metadata": {
        "id": "3uTJGFxHr-Hd"
      },
      "execution_count": 17,
      "outputs": []
    },
    {
      "cell_type": "code",
      "source": [
        "# slow function\n",
        "def slow_python(x):\n",
        "  result = []\n",
        "  for i in x:\n",
        "    result.append(np.sin(i) + np.cos(i))\n",
        "  return result"
      ],
      "metadata": {
        "id": "XFFRZ7VZsEkk"
      },
      "execution_count": 18,
      "outputs": []
    },
    {
      "cell_type": "code",
      "source": [
        "# fast function\n",
        "def fast_numpy(x):\n",
        "  return np.sin(x) + np.cos(x)"
      ],
      "metadata": {
        "id": "0gudJsaEsZWN"
      },
      "execution_count": 19,
      "outputs": []
    },
    {
      "cell_type": "code",
      "source": [
        "# numba-accelerated function\n",
        "\n",
        "@njit\n",
        "def fast_numba(x):\n",
        "  result = np.empty_like(x)\n",
        "  for i in range(x.shape[0]):\n",
        "    result[i] = np.sin(x[i]) + np.cos(x[i])\n",
        "  return result"
      ],
      "metadata": {
        "id": "7zwg23Mfsh6P"
      },
      "execution_count": 20,
      "outputs": []
    },
    {
      "cell_type": "code",
      "source": [
        "# sample data\n",
        "x = np.linspace(0, 1_000_000, 1_000_000).astype(np.float64)"
      ],
      "metadata": {
        "id": "ipotXBnDs5A7"
      },
      "execution_count": 21,
      "outputs": []
    },
    {
      "cell_type": "code",
      "source": [
        "# Warm-up for numba compilation\n",
        "fast_numba(x[:10])\n",
        "\n",
        "# Timing slow Python\n",
        "start = time.time()\n",
        "slow_python(x[:10000])  # Do fewer because it’s slow\n",
        "print(\"Python:\", time.time() - start)\n",
        "\n",
        "# Timing NumPy\n",
        "start = time.time()\n",
        "fast_numpy(x)\n",
        "print(\"NumPy:\", time.time() - start)\n",
        "\n",
        "# Timing Numba\n",
        "start = time.time()\n",
        "fast_numba(x)\n",
        "print(\"Numba:\", time.time() - start)\n"
      ],
      "metadata": {
        "colab": {
          "base_uri": "https://localhost:8080/"
        },
        "id": "LtDTqMY9s8Fa",
        "outputId": "8c6218c2-e43b-4c0b-8ebd-8a76b5c96da1"
      },
      "execution_count": 22,
      "outputs": [
        {
          "output_type": "stream",
          "name": "stdout",
          "text": [
            "Python: 0.04671478271484375\n",
            "NumPy: 0.10737013816833496\n",
            "Numba: 0.1410839557647705\n"
          ]
        }
      ]
    },
    {
      "cell_type": "code",
      "source": [
        "# sample-2\n",
        "x_big = np.linspace(0, 10_000_000, 10_000_000).astype(np.float64)"
      ],
      "metadata": {
        "id": "M4CJbmultLex"
      },
      "execution_count": 23,
      "outputs": []
    },
    {
      "cell_type": "code",
      "source": [
        "x_big = np.linspace(0, 10_000_000, 10_000_000).astype(np.float64)\n",
        "\n",
        "# Python\n",
        "start = time.time()\n",
        "slow_python(x_big)  # WARNING: Don't run on 10 million; it'll take forever\n",
        "print(\"Python (10k):\", time.time() - start)\n",
        "\n",
        "# NumPy\n",
        "start = time.time()\n",
        "fast_numpy(x_big)\n",
        "print(\"NumPy:\", time.time() - start)\n",
        "\n",
        "# Numba\n",
        "start = time.time()\n",
        "fast_numba(x_big)\n",
        "print(\"Numba:\", time.time() - start)"
      ],
      "metadata": {
        "colab": {
          "base_uri": "https://localhost:8080/"
        },
        "id": "q0H7d1BEtbTE",
        "outputId": "e609559a-610c-443c-9b22-34aaa328a6b1"
      },
      "execution_count": 24,
      "outputs": [
        {
          "output_type": "stream",
          "name": "stdout",
          "text": [
            "Python (10k): 24.44684147834778\n",
            "NumPy: 0.29987001419067383\n",
            "Numba: 0.23228693008422852\n"
          ]
        }
      ]
    }
  ]
}